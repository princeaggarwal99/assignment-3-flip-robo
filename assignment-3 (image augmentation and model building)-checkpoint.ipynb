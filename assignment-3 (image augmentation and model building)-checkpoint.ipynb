{
 "cells": [
  {
   "cell_type": "code",
   "execution_count": 2,
   "metadata": {},
   "outputs": [],
   "source": [
    "# importing libraries :\n",
    "import cv2\n",
    "from matplotlib import pyplot\n",
    "from keras.utils import to_categorical\n",
    "from keras.models import Sequential\n",
    "from keras.layers import Conv2D\n",
    "from keras.layers import MaxPooling2D\n",
    "from keras.layers import Dense\n",
    "from keras.layers import Flatten\n",
    "from keras.optimizers import SGD\n",
    "from keras.preprocessing.image import ImageDataGenerator\n",
    "import os\n",
    "import shutil \n",
    "import requests\n",
    "import pandas as pd \n",
    "import csv \n",
    "import glob"
   ]
  },
  {
   "cell_type": "code",
   "execution_count": 3,
   "metadata": {},
   "outputs": [],
   "source": [
    "import numpy as np"
   ]
  },
  {
   "cell_type": "markdown",
   "metadata": {},
   "source": [
    "# # Mens(shirts) augmentation"
   ]
  },
  {
   "cell_type": "code",
   "execution_count": 4,
   "metadata": {},
   "outputs": [],
   "source": [
    "imageDir = \"C:/Users/prince/data/train/amazon_men_shirt/\" #specify your path here\n",
    "image_path_list = []\n",
    "valid_image_extensions = [\".jpg\", \".jpeg\", \".png\", \".tif\", \".tiff\"] #specify your vald extensions here\n",
    "valid_image_extensions = [item.lower() for item in valid_image_extensions]\n",
    "\n",
    "for file in os.listdir(imageDir):\n",
    "    extension = os.path.splitext(file)[1]\n",
    "    if extension.lower() not in valid_image_extensions:\n",
    "        continue\n",
    "    image_path_list.append(os.path.join(imageDir, file))\n",
    "\n",
    "for imagePath in image_path_list:\n",
    "    img = cv2.imread(imagePath)\n",
    "   \n",
    "   \n",
    "    if img is None:\n",
    "        continue\n",
    "\n",
    "    cv2.imshow(\"prince\", img)\n",
    "    \n",
    "    key = cv2.waitKey(100)\n",
    "    if key == 27: # escape\n",
    "        break\n",
    "\n",
    "cv2.destroyAllWindows()"
   ]
  },
  {
   "cell_type": "markdown",
   "metadata": {},
   "source": [
    "# rotation"
   ]
  },
  {
   "cell_type": "code",
   "execution_count": 5,
   "metadata": {},
   "outputs": [],
   "source": [
    "for imagePath in image_path_list:\n",
    "    img = cv2.imread(imagePath)\n",
    "    width,height=img.shape[:2]\n",
    "   \n",
    "    rotation_mat=cv2.getRotationMatrix2D((width/2,height/2),25,1)\n",
    "    rotated_img=cv2.warpAffine(img,rotation_mat,(width,height))\n",
    "    cv2.imshow(\"rotated\",rotated_img)\n",
    "    basename = os.path.basename(imagePath)  # e.g. MyPhoto.jpg\n",
    "    name = os.path.splitext(basename)[0]\n",
    "    cv2.imwrite('C:/Users/prince/aug_shirt/' + name + '_rotated_img.jpg', rotated_img)\n",
    "    cv2.waitKey(100)\n",
    "    cv2.destroyAllWindows()"
   ]
  },
  {
   "cell_type": "markdown",
   "metadata": {},
   "source": [
    "# flipping"
   ]
  },
  {
   "cell_type": "code",
   "execution_count": 6,
   "metadata": {},
   "outputs": [],
   "source": [
    "for imagePath in image_path_list:\n",
    "    img = cv2.imread(imagePath)\n",
    "    flip=cv2.flip(img,0)\n",
    "    cv2.imshow(\"flipped images\",flip)\n",
    "    basename = os.path.basename(imagePath)  # e.g. MyPhoto.jpg\n",
    "    name = os.path.splitext(basename)[0]\n",
    "    cv2.imwrite('C:/Users/prince/aug_shirt/' + name + '_flipped_img.jpg', flip)\n",
    "    cv2.waitKey(10)\n",
    "    cv2.destroyAllWindows()"
   ]
  },
  {
   "cell_type": "markdown",
   "metadata": {},
   "source": [
    "# brightness +"
   ]
  },
  {
   "cell_type": "code",
   "execution_count": 7,
   "metadata": {},
   "outputs": [],
   "source": [
    "for imagePath in image_path_list:\n",
    "    img = cv2.imread(imagePath)\n",
    "    m=np.ones(img.shape,dtype='uint8')*75\n",
    "    added=cv2.add(img,m)\n",
    "    cv2.imshow(\",brightness + \",added)\n",
    "    basename = os.path.basename(imagePath)  # e.g. MyPhoto.jpg\n",
    "    name = os.path.splitext(basename)[0]\n",
    "    cv2.imwrite('C:/Users/prince/aug_shirt/' + name + '_brighted_img.jpg', added)\n",
    "    cv2.waitKey(1)\n",
    "    cv2.destroyAllWindows()"
   ]
  },
  {
   "cell_type": "markdown",
   "metadata": {},
   "source": [
    "# brightness (-)"
   ]
  },
  {
   "cell_type": "code",
   "execution_count": 8,
   "metadata": {},
   "outputs": [],
   "source": [
    "for imagePath in image_path_list:\n",
    "    img = cv2.imread(imagePath)\n",
    "    m=np.ones(img.shape,dtype='uint8')*75\n",
    "    subtract=cv2.subtract(img,m)\n",
    "    cv2.imshow(\",brightness - \",subtract)\n",
    "    basename = os.path.basename(imagePath)  # e.g. MyPhoto.jpg\n",
    "    name = os.path.splitext(basename)[0]\n",
    "    cv2.imwrite('C:/Users/prince/aug_shirt/' + name + '_bright_low_img.jpg', subtract)\n",
    "    cv2.waitKey(10)\n",
    "    cv2.destroyAllWindows()"
   ]
  },
  {
   "cell_type": "markdown",
   "metadata": {},
   "source": [
    "# sharpening"
   ]
  },
  {
   "cell_type": "code",
   "execution_count": 9,
   "metadata": {},
   "outputs": [],
   "source": [
    "for imagePath in image_path_list:\n",
    "    img = cv2.imread(imagePath)\n",
    "    kernel = np.array([[-1,-1,-1], [-1,9,-1], [-1,-1,-1]])\n",
    "    sharped = cv2.filter2D(img, -1, kernel)\n",
    "   \n",
    "    cv2.imshow(\"more sharped   \",sharped)\n",
    "    basename = os.path.basename(imagePath)  # e.g. MyPhoto.jpg\n",
    "    name = os.path.splitext(basename)[0]\n",
    "    cv2.imwrite('C:/Users/prince/aug_shirt/'  + name + '_img.jpg', sharped)\n",
    "    cv2.waitKey(10)\n",
    "    cv2.destroyAllWindows()\n"
   ]
  },
  {
   "cell_type": "markdown",
   "metadata": {},
   "source": [
    "##  mens(t shirt) : augmentation"
   ]
  },
  {
   "cell_type": "code",
   "execution_count": 10,
   "metadata": {},
   "outputs": [],
   "source": [
    "mens_t_shirt=\"C:/Users/prince/data/train/amazon_men_t_shirt\""
   ]
  },
  {
   "cell_type": "code",
   "execution_count": 11,
   "metadata": {},
   "outputs": [],
   "source": [
    "imageDir = \"C:/Users/prince/data/train/amazon_men_t_shirt/\" #specify your path here\n",
    "image_path_list = []\n",
    "valid_image_extensions = [\".jpg\", \".jpeg\", \".png\", \".tif\", \".tiff\"] #specify your vald extensions here\n",
    "valid_image_extensions = [item.lower() for item in valid_image_extensions]\n",
    "\n",
    "for file in os.listdir(imageDir):\n",
    "    extension = os.path.splitext(file)[1]\n",
    "    if extension.lower() not in valid_image_extensions:\n",
    "        continue\n",
    "    image_path_list.append(os.path.join(imageDir, file))\n",
    "\n",
    "for imagePath in image_path_list:\n",
    "    img = cv2.imread(imagePath)\n",
    "   \n",
    "   \n",
    "    if img is None:\n",
    "        continue\n",
    "\n",
    "    cv2.imshow(\"prince\", img)\n",
    "    \n",
    "    key = cv2.waitKey(10)\n",
    "    if key == 27: # escape\n",
    "        break\n",
    "\n",
    "cv2.destroyAllWindows()"
   ]
  },
  {
   "cell_type": "markdown",
   "metadata": {},
   "source": [
    "# rotation"
   ]
  },
  {
   "cell_type": "code",
   "execution_count": 12,
   "metadata": {},
   "outputs": [],
   "source": [
    "for imagePath in image_path_list:\n",
    "    img = cv2.imread(imagePath)\n",
    "    width,height=img.shape[:2]\n",
    "   \n",
    "    rotation_mat=cv2.getRotationMatrix2D((width/2,height/2),25,1)\n",
    "    rotated_img=cv2.warpAffine(img,rotation_mat,(width,height))\n",
    "    cv2.imshow(\"rotated\",rotated_img)\n",
    "    basename = os.path.basename(imagePath)  # e.g. MyPhoto.jpg\n",
    "    name = os.path.splitext(basename)[0]\n",
    "    cv2.imwrite('C:/Users/prince/aug_t_shirt/' + name + '_rotated_img.jpg', rotated_img)\n",
    "    cv2.waitKey(10)\n",
    "    cv2.destroyAllWindows()"
   ]
  },
  {
   "cell_type": "markdown",
   "metadata": {},
   "source": [
    "# brightness(-)"
   ]
  },
  {
   "cell_type": "code",
   "execution_count": 13,
   "metadata": {},
   "outputs": [],
   "source": [
    "for imagePath in image_path_list:\n",
    "    img = cv2.imread(imagePath)\n",
    "    m=np.ones(img.shape,dtype='uint8')*75\n",
    "    subtract=cv2.subtract(img,m)\n",
    "    cv2.imshow(\",brightness - \",subtract)\n",
    "    basename = os.path.basename(imagePath)  # e.g. MyPhoto.jpg\n",
    "    name = os.path.splitext(basename)[0]\n",
    "    cv2.imwrite('C:/Users/prince/aug_t_shirt/' + name + '_bright_low_img.jpg', subtract)\n",
    "    cv2.waitKey(10)\n",
    "    cv2.destroyAllWindows()"
   ]
  },
  {
   "cell_type": "markdown",
   "metadata": {},
   "source": [
    "# sharpening"
   ]
  },
  {
   "cell_type": "code",
   "execution_count": 14,
   "metadata": {},
   "outputs": [],
   "source": [
    "for imagePath in image_path_list:\n",
    "    img = cv2.imread(imagePath)\n",
    "    kernel = np.array([[-1,-1,-1], [-1,9,-1], [-1,-1,-1]])\n",
    "    sharped = cv2.filter2D(img, -1, kernel)\n",
    "   \n",
    "    cv2.imshow(\"more sharped   \",sharped)\n",
    "    basename = os.path.basename(imagePath)  # e.g. MyPhoto.jpg\n",
    "    name = os.path.splitext(basename)[0]\n",
    "    cv2.imwrite('C:/Users/prince/aug_t_shirt/' + name + '_img.jpg', sharped)\n",
    "    cv2.waitKey(10)\n",
    "    cv2.destroyAllWindows()\n"
   ]
  },
  {
   "cell_type": "markdown",
   "metadata": {},
   "source": [
    "# brightness(+)"
   ]
  },
  {
   "cell_type": "code",
   "execution_count": 15,
   "metadata": {},
   "outputs": [],
   "source": [
    "for imagePath in image_path_list:\n",
    "    img = cv2.imread(imagePath)\n",
    "    m=np.ones(img.shape,dtype='uint8')*75\n",
    "    added=cv2.add(img,m)\n",
    "    cv2.imshow(\",brightness + \",added)\n",
    "    basename = os.path.basename(imagePath)  # e.g. MyPhoto.jpg\n",
    "    name = os.path.splitext(basename)[0]\n",
    "    cv2.imwrite('C:/Users/prince/aug_t_shirt/' + name + '_brighted_img.jpg', added)\n",
    "    cv2.waitKey(10)\n",
    "    cv2.destroyAllWindows()"
   ]
  },
  {
   "cell_type": "markdown",
   "metadata": {},
   "source": [
    "# flipped"
   ]
  },
  {
   "cell_type": "code",
   "execution_count": 16,
   "metadata": {},
   "outputs": [],
   "source": [
    "for imagePath in image_path_list:\n",
    "    img = cv2.imread(imagePath)\n",
    "    flip=cv2.flip(img,0)\n",
    "    cv2.imshow(\"flipped images\",flip)\n",
    "    basename = os.path.basename(imagePath)  # e.g. MyPhoto.jpg\n",
    "    name = os.path.splitext(basename)[0]\n",
    "    cv2.imwrite('C:/Users/prince/aug_t_shirt/' + name + '_flipped_img.jpg', flip)\n",
    "    cv2.waitKey(10)\n",
    "    cv2.destroyAllWindows()\n",
    "    "
   ]
  },
  {
   "cell_type": "markdown",
   "metadata": {},
   "source": [
    "# # Women(Sarees) : augmentation"
   ]
  },
  {
   "cell_type": "code",
   "execution_count": 17,
   "metadata": {},
   "outputs": [],
   "source": [
    "imageDir = \"C:/Users/prince/data/train/amazon_women_sarees/\" #specify your path here\n",
    "image_path_list = []\n",
    "valid_image_extensions = [\".jpg\", \".jpeg\", \".png\", \".tif\", \".tiff\"] #specify your vald extensions here\n",
    "valid_image_extensions = [item.lower() for item in valid_image_extensions]\n",
    "\n",
    "for file in os.listdir(imageDir):\n",
    "    extension = os.path.splitext(file)[1]\n",
    "    if extension.lower() not in valid_image_extensions:\n",
    "        continue\n",
    "    image_path_list.append(os.path.join(imageDir, file))\n",
    "\n",
    "for imagePath in image_path_list:\n",
    "    img = cv2.imread(imagePath)\n",
    "   \n",
    "   \n",
    "    if img is None:\n",
    "        continue\n",
    "\n",
    "    cv2.imshow(\"prince\", img)\n",
    "    \n",
    "    key = cv2.waitKey(100)\n",
    "    if key == 27: # escape\n",
    "        break\n",
    "\n",
    "cv2.destroyAllWindows()"
   ]
  },
  {
   "cell_type": "markdown",
   "metadata": {},
   "source": [
    "# flipped"
   ]
  },
  {
   "cell_type": "code",
   "execution_count": 18,
   "metadata": {},
   "outputs": [],
   "source": [
    "for imagePath in image_path_list:\n",
    "    img = cv2.imread(imagePath)\n",
    "    flip=cv2.flip(img,0)\n",
    "    cv2.imshow(\"flipped images\",flip)\n",
    "    basename = os.path.basename(imagePath)  # e.g. MyPhoto.jpg\n",
    "    name = os.path.splitext(basename)[0]\n",
    "    cv2.imwrite('C:/Users/prince/aug_saree/' + name + '_flipped_img.jpg', flip)\n",
    "    cv2.waitKey(10)\n",
    "    cv2.destroyAllWindows()"
   ]
  },
  {
   "cell_type": "markdown",
   "metadata": {},
   "source": [
    "#  brightness(+)"
   ]
  },
  {
   "cell_type": "code",
   "execution_count": 19,
   "metadata": {},
   "outputs": [],
   "source": [
    "for imagePath in image_path_list:\n",
    "    img = cv2.imread(imagePath)\n",
    "    m=np.ones(img.shape,dtype='uint8')*75\n",
    "    added=cv2.add(img,m)\n",
    "    cv2.imshow(\",brightness + \",added)\n",
    "    basename = os.path.basename(imagePath)  # e.g. MyPhoto.jpg\n",
    "    name = os.path.splitext(basename)[0]\n",
    "    cv2.imwrite('C:/Users/prince/aug_saree/' + name + '_brighted_img.jpg', added)\n",
    "    cv2.waitKey(10)\n",
    "    cv2.destroyAllWindows()"
   ]
  },
  {
   "cell_type": "markdown",
   "metadata": {},
   "source": [
    "# sharpening"
   ]
  },
  {
   "cell_type": "code",
   "execution_count": 20,
   "metadata": {},
   "outputs": [],
   "source": [
    "for imagePath in image_path_list:\n",
    "    img = cv2.imread(imagePath)\n",
    "    kernel = np.array([[-1,-1,-1], [-1,9,-1], [-1,-1,-1]])\n",
    "    sharped = cv2.filter2D(img, -1, kernel)\n",
    "   \n",
    "    cv2.imshow(\"more sharped   \",sharped)\n",
    "    basename = os.path.basename(imagePath)  # e.g. MyPhoto.jpg\n",
    "    name = os.path.splitext(basename)[0]\n",
    "    cv2.imwrite('C:/Users/prince/aug_saree/'+ name + '_img.jpg', sharped)\n",
    "    cv2.waitKey(10)\n",
    "    cv2.destroyAllWindows()\n"
   ]
  },
  {
   "cell_type": "markdown",
   "metadata": {},
   "source": [
    "# brightness(-)"
   ]
  },
  {
   "cell_type": "code",
   "execution_count": 21,
   "metadata": {},
   "outputs": [],
   "source": [
    "for imagePath in image_path_list:\n",
    "    img = cv2.imread(imagePath)\n",
    "    m=np.ones(img.shape,dtype='uint8')*75\n",
    "    subtract=cv2.subtract(img,m)\n",
    "    cv2.imshow(\",brightness - \",subtract)\n",
    "    basename = os.path.basename(imagePath)  # e.g. MyPhoto.jpg\n",
    "    name = os.path.splitext(basename)[0]\n",
    "    cv2.imwrite('C:/Users/prince/aug_saree/'+ name + '_bright_low_img.jpg', subtract)\n",
    "    cv2.waitKey(10)\n",
    "    cv2.destroyAllWindows()"
   ]
  },
  {
   "cell_type": "markdown",
   "metadata": {},
   "source": [
    "# Rotation"
   ]
  },
  {
   "cell_type": "code",
   "execution_count": 22,
   "metadata": {},
   "outputs": [],
   "source": [
    "for imagePath in image_path_list:\n",
    "    img = cv2.imread(imagePath)\n",
    "    width,height=img.shape[:2]\n",
    "   \n",
    "    rotation_mat=cv2.getRotationMatrix2D((width/2,height/2),25,1)\n",
    "    rotated_img=cv2.warpAffine(img,rotation_mat,(width,height))\n",
    "    cv2.imshow(\"rotated\",rotated_img)\n",
    "    basename = os.path.basename(imagePath)  # e.g. MyPhoto.jpg\n",
    "    name = os.path.splitext(basename)[0]\n",
    "    cv2.imwrite('C:/Users/prince/aug_saree/' + name + '_rotated_img.jpg', rotated_img)\n",
    "    cv2.waitKey(10)\n",
    "    cv2.destroyAllWindows()"
   ]
  },
  {
   "cell_type": "code",
   "execution_count": 23,
   "metadata": {},
   "outputs": [],
   "source": [
    "train_path=\"C:/Users/prince/train_images/\""
   ]
  },
  {
   "cell_type": "markdown",
   "metadata": {},
   "source": [
    "# MODEL BUILDING"
   ]
  },
  {
   "cell_type": "code",
   "execution_count": 24,
   "metadata": {},
   "outputs": [],
   "source": [
    "# MANUALLY RESIZING THE IMAGE SIZES FOR THE OUTPUT\n",
    "i_wd=150\n",
    "i_ht=150\n",
    "# BUILDING CNN MODEL LAYERS\n",
    "model = Sequential()\n",
    "\n",
    "#FIRST CONV+RELU LAYER\n",
    "model.add(Conv2D(32, (3, 3), activation='relu', padding='same', input_shape=(i_wd,i_ht,3)))\n",
    "model.add(MaxPooling2D((2, 2)))\n",
    "model.add(Conv2D(32, (3, 3), activation='relu', padding='same', input_shape=(i_wd,i_ht,3)))\n",
    "model.add(MaxPooling2D((2, 2)))\n",
    "\n",
    "\n",
    "#SECOND CONV+RELU LAYER\n",
    "model.add(Conv2D(64, (3, 3), activation='relu', padding='same', input_shape=(i_wd,i_ht,3)))\n",
    "model.add(MaxPooling2D((2, 2)))\n",
    "\n",
    "#THIRD CONV+RELU LAYER\n",
    "model.add(Conv2D(64, (3, 3), activation='relu', padding='same', input_shape=(i_wd,i_ht,3)))\n",
    "model.add(MaxPooling2D((2, 2)))\n",
    "\n",
    "\n",
    "\n",
    "#FULLY CONNECTED LAYER\n",
    "model.add(Flatten())\n",
    "model.add(Dense(512, activation='relu'))\n",
    "model.add(Dense(3, activation='softmax'))\n",
    "\n",
    "#COMPILING THE MODEL\n",
    "model.compile(loss=\"categorical_crossentropy\",optimizer=\"SGD\",metrics=['accuracy'])\n",
    "\n"
   ]
  },
  {
   "cell_type": "code",
   "execution_count": 25,
   "metadata": {},
   "outputs": [
    {
     "name": "stdout",
     "output_type": "stream",
     "text": [
      "Found 1800 images belonging to 3 classes.\n"
     ]
    }
   ],
   "source": [
    "train_data_gen=ImageDataGenerator(rescale=1./255)\n",
    "train_gen=train_data_gen.flow_from_directory(directory =train_path,target_size=(150, 150),batch_size=20,shuffle=True)"
   ]
  },
  {
   "cell_type": "code",
   "execution_count": 26,
   "metadata": {},
   "outputs": [],
   "source": [
    "test_path=\"C:/Users/prince/data/test\""
   ]
  },
  {
   "cell_type": "code",
   "execution_count": 27,
   "metadata": {},
   "outputs": [
    {
     "name": "stdout",
     "output_type": "stream",
     "text": [
      "Found 96 images belonging to 3 classes.\n"
     ]
    }
   ],
   "source": [
    "valid_data_gen=ImageDataGenerator(rescale=1./255)\n",
    "valid_gen=valid_data_gen.flow_from_directory(directory =test_path,target_size=(150, 150),batch_size=20,shuffle=True)"
   ]
  },
  {
   "cell_type": "code",
   "execution_count": 28,
   "metadata": {},
   "outputs": [
    {
     "data": {
      "text/plain": [
       "{'amazon_men_shirt': 0, 'amazon_men_t_shirt': 1, 'amazon_women_sarees': 2}"
      ]
     },
     "execution_count": 28,
     "metadata": {},
     "output_type": "execute_result"
    }
   ],
   "source": [
    "train_gen.class_indices"
   ]
  },
  {
   "cell_type": "code",
   "execution_count": 29,
   "metadata": {},
   "outputs": [
    {
     "data": {
      "text/plain": [
       "{'amazon_men_shirt': 0, 'amazon_men_t_shirt': 1, 'amazon_women_sarees': 2}"
      ]
     },
     "execution_count": 29,
     "metadata": {},
     "output_type": "execute_result"
    }
   ],
   "source": [
    "valid_gen.class_indices"
   ]
  },
  {
   "cell_type": "code",
   "execution_count": 30,
   "metadata": {},
   "outputs": [
    {
     "name": "stdout",
     "output_type": "stream",
     "text": [
      "Epoch 1/20\n",
      "90/90 [==============================] - 32s 360ms/step - loss: 1.0413 - accuracy: 0.4767 - val_loss: 0.9177 - val_accuracy: 0.5312\n",
      "Epoch 2/20\n",
      "90/90 [==============================] - 33s 370ms/step - loss: 0.9005 - accuracy: 0.5772 - val_loss: 0.6952 - val_accuracy: 0.7292\n",
      "Epoch 3/20\n",
      "90/90 [==============================] - 33s 369ms/step - loss: 0.6737 - accuracy: 0.7167 - val_loss: 0.5097 - val_accuracy: 0.8125\n",
      "Epoch 4/20\n",
      "90/90 [==============================] - 32s 360ms/step - loss: 0.5602 - accuracy: 0.7550 - val_loss: 0.5411 - val_accuracy: 0.7292\n",
      "Epoch 5/20\n",
      "90/90 [==============================] - 43s 482ms/step - loss: 0.4936 - accuracy: 0.7967 - val_loss: 0.4405 - val_accuracy: 0.7917\n",
      "Epoch 6/20\n",
      "90/90 [==============================] - 44s 494ms/step - loss: 0.4323 - accuracy: 0.8122 - val_loss: 0.3761 - val_accuracy: 0.8750\n",
      "Epoch 7/20\n",
      "90/90 [==============================] - 44s 492ms/step - loss: 0.3662 - accuracy: 0.8417 - val_loss: 0.3160 - val_accuracy: 0.9062\n",
      "Epoch 8/20\n",
      "90/90 [==============================] - 44s 490ms/step - loss: 0.2925 - accuracy: 0.8817 - val_loss: 0.2701 - val_accuracy: 0.9167\n",
      "Epoch 9/20\n",
      "90/90 [==============================] - 44s 488ms/step - loss: 0.2633 - accuracy: 0.8961 - val_loss: 0.3430 - val_accuracy: 0.8646\n",
      "Epoch 10/20\n",
      "90/90 [==============================] - 44s 489ms/step - loss: 0.2192 - accuracy: 0.9100 - val_loss: 0.2613 - val_accuracy: 0.9271\n",
      "Epoch 11/20\n",
      "90/90 [==============================] - 44s 491ms/step - loss: 0.2532 - accuracy: 0.9006 - val_loss: 0.3975 - val_accuracy: 0.8542\n",
      "Epoch 12/20\n",
      "90/90 [==============================] - 45s 497ms/step - loss: 0.1960 - accuracy: 0.9300 - val_loss: 0.2853 - val_accuracy: 0.9271\n",
      "Epoch 13/20\n",
      "90/90 [==============================] - 45s 497ms/step - loss: 0.1257 - accuracy: 0.9511 - val_loss: 0.2528 - val_accuracy: 0.9479\n",
      "Epoch 14/20\n",
      "90/90 [==============================] - 45s 496ms/step - loss: 0.1327 - accuracy: 0.9472 - val_loss: 0.2654 - val_accuracy: 0.9479\n",
      "Epoch 15/20\n",
      "90/90 [==============================] - 45s 497ms/step - loss: 0.0971 - accuracy: 0.9672 - val_loss: 0.2787 - val_accuracy: 0.9375\n",
      "Epoch 16/20\n",
      "90/90 [==============================] - 45s 496ms/step - loss: 0.0780 - accuracy: 0.9694 - val_loss: 0.2772 - val_accuracy: 0.9375\n",
      "Epoch 17/20\n",
      "90/90 [==============================] - 45s 500ms/step - loss: 0.0683 - accuracy: 0.9750 - val_loss: 0.3235 - val_accuracy: 0.9271\n",
      "Epoch 18/20\n",
      "90/90 [==============================] - 44s 487ms/step - loss: 0.0744 - accuracy: 0.9717 - val_loss: 0.2811 - val_accuracy: 0.9688\n",
      "Epoch 19/20\n",
      "90/90 [==============================] - 44s 485ms/step - loss: 0.0596 - accuracy: 0.9761 - val_loss: 0.2930 - val_accuracy: 0.9479\n",
      "Epoch 20/20\n",
      "90/90 [==============================] - 44s 492ms/step - loss: 0.0429 - accuracy: 0.9856 - val_loss: 0.3074 - val_accuracy: 0.9583\n"
     ]
    }
   ],
   "source": [
    "#FITTING , GENERATING ACCURACY AND LOSS\n",
    "history=model.fit(train_gen,validation_data=valid_gen,epochs = 20)\n"
   ]
  },
  {
   "cell_type": "code",
   "execution_count": 31,
   "metadata": {},
   "outputs": [
    {
     "data": {
      "text/plain": [
       "[0.3073669970035553, 0.9583333134651184]"
      ]
     },
     "execution_count": 31,
     "metadata": {},
     "output_type": "execute_result"
    }
   ],
   "source": [
    "## score for the test data or validation data \n",
    "m=model.evaluate(valid_gen,verbose=0)\n",
    "m"
   ]
  },
  {
   "cell_type": "code",
   "execution_count": 32,
   "metadata": {},
   "outputs": [
    {
     "name": "stdout",
     "output_type": "stream",
     "text": [
      "Model: \"sequential\"\n",
      "_________________________________________________________________\n",
      "Layer (type)                 Output Shape              Param #   \n",
      "=================================================================\n",
      "conv2d (Conv2D)              (None, 150, 150, 32)      896       \n",
      "_________________________________________________________________\n",
      "max_pooling2d (MaxPooling2D) (None, 75, 75, 32)        0         \n",
      "_________________________________________________________________\n",
      "conv2d_1 (Conv2D)            (None, 75, 75, 32)        9248      \n",
      "_________________________________________________________________\n",
      "max_pooling2d_1 (MaxPooling2 (None, 37, 37, 32)        0         \n",
      "_________________________________________________________________\n",
      "conv2d_2 (Conv2D)            (None, 37, 37, 64)        18496     \n",
      "_________________________________________________________________\n",
      "max_pooling2d_2 (MaxPooling2 (None, 18, 18, 64)        0         \n",
      "_________________________________________________________________\n",
      "conv2d_3 (Conv2D)            (None, 18, 18, 64)        36928     \n",
      "_________________________________________________________________\n",
      "max_pooling2d_3 (MaxPooling2 (None, 9, 9, 64)          0         \n",
      "_________________________________________________________________\n",
      "flatten (Flatten)            (None, 5184)              0         \n",
      "_________________________________________________________________\n",
      "dense (Dense)                (None, 512)               2654720   \n",
      "_________________________________________________________________\n",
      "dense_1 (Dense)              (None, 3)                 1539      \n",
      "=================================================================\n",
      "Total params: 2,721,827\n",
      "Trainable params: 2,721,827\n",
      "Non-trainable params: 0\n",
      "_________________________________________________________________\n"
     ]
    }
   ],
   "source": [
    "model.summary()"
   ]
  },
  {
   "cell_type": "code",
   "execution_count": 33,
   "metadata": {
    "scrolled": true
   },
   "outputs": [
    {
     "data": {
      "text/plain": [
       "{'loss': [1.0413235425949097,\n",
       "  0.9004853367805481,\n",
       "  0.6736581325531006,\n",
       "  0.5602416396141052,\n",
       "  0.4936080574989319,\n",
       "  0.43228834867477417,\n",
       "  0.36621564626693726,\n",
       "  0.2925257682800293,\n",
       "  0.2633284330368042,\n",
       "  0.21919125318527222,\n",
       "  0.2531944215297699,\n",
       "  0.19602642953395844,\n",
       "  0.1256820559501648,\n",
       "  0.13265320658683777,\n",
       "  0.09707839041948318,\n",
       "  0.07798641920089722,\n",
       "  0.06833448261022568,\n",
       "  0.07436048239469528,\n",
       "  0.05959209054708481,\n",
       "  0.04291420429944992],\n",
       " 'accuracy': [0.476666659116745,\n",
       "  0.5772222280502319,\n",
       "  0.7166666388511658,\n",
       "  0.7549999952316284,\n",
       "  0.79666668176651,\n",
       "  0.8122222423553467,\n",
       "  0.8416666388511658,\n",
       "  0.8816666603088379,\n",
       "  0.8961111307144165,\n",
       "  0.9100000262260437,\n",
       "  0.9005555510520935,\n",
       "  0.9300000071525574,\n",
       "  0.9511111378669739,\n",
       "  0.9472222328186035,\n",
       "  0.9672222137451172,\n",
       "  0.9694444537162781,\n",
       "  0.9750000238418579,\n",
       "  0.971666693687439,\n",
       "  0.976111114025116,\n",
       "  0.9855555295944214],\n",
       " 'val_loss': [0.9177402853965759,\n",
       "  0.6952417492866516,\n",
       "  0.5097315907478333,\n",
       "  0.5410780906677246,\n",
       "  0.44048872590065,\n",
       "  0.3760926425457001,\n",
       "  0.3160252571105957,\n",
       "  0.27014270424842834,\n",
       "  0.34299764037132263,\n",
       "  0.26131606101989746,\n",
       "  0.39752066135406494,\n",
       "  0.2853042185306549,\n",
       "  0.252761572599411,\n",
       "  0.26541343331336975,\n",
       "  0.2787429392337799,\n",
       "  0.27721866965293884,\n",
       "  0.3234652876853943,\n",
       "  0.28110483288764954,\n",
       "  0.29302874207496643,\n",
       "  0.3073669373989105],\n",
       " 'val_accuracy': [0.53125,\n",
       "  0.7291666865348816,\n",
       "  0.8125,\n",
       "  0.7291666865348816,\n",
       "  0.7916666865348816,\n",
       "  0.875,\n",
       "  0.90625,\n",
       "  0.9166666865348816,\n",
       "  0.8645833134651184,\n",
       "  0.9270833134651184,\n",
       "  0.8541666865348816,\n",
       "  0.9270833134651184,\n",
       "  0.9479166865348816,\n",
       "  0.9479166865348816,\n",
       "  0.9375,\n",
       "  0.9375,\n",
       "  0.9270833134651184,\n",
       "  0.96875,\n",
       "  0.9479166865348816,\n",
       "  0.9583333134651184]}"
      ]
     },
     "execution_count": 33,
     "metadata": {},
     "output_type": "execute_result"
    }
   ],
   "source": [
    "history.history"
   ]
  },
  {
   "cell_type": "code",
   "execution_count": 34,
   "metadata": {},
   "outputs": [
    {
     "name": "stdout",
     "output_type": "stream",
     "text": [
      "dict_keys(['loss', 'accuracy', 'val_loss', 'val_accuracy'])\n"
     ]
    },
    {
     "data": {
      "image/png": "[encoded data removed]",
      "text/plain": [
       "<Figure size 432x288 with 1 Axes>"
      ]
     },
     "metadata": {
      "needs_background": "light"
     },
     "output_type": "display_data"
    },
    {
     "data": {
      "image/png": "[encoded data removed]",
      "text/plain": [
       "<Figure size 432x288 with 1 Axes>"
      ]
     },
     "metadata": {
      "needs_background": "light"
     },
     "output_type": "display_data"
    }
   ],
   "source": [
    "import matplotlib.pyplot as plt\n",
    "%matplotlib inline\n",
    "\n",
    "# list all data in history\n",
    "print(history.history.keys())\n",
    "# summarize history for accuracy\n",
    "plt.plot(history.history['accuracy'])\n",
    "plt.plot(history.history['val_accuracy'])\n",
    "\n",
    "plt.title('model accuracy')\n",
    "plt.ylabel('accuracy')\n",
    "plt.xlabel('epoch')\n",
    "plt.legend(['train', 'test'], loc='upper left')\n",
    "plt.show()\n",
    "# summarize history for loss\n",
    "plt.plot(history.history['loss'])\n",
    "plt.plot(history.history['val_loss'])\n",
    "\n",
    "plt.title('model loss')\n",
    "plt.ylabel('loss')\n",
    "plt.xlabel('epoch')\n",
    "plt.legend(['train', 'test'], loc='upper left')\n",
    "plt.show()"
   ]
  },
  {
   "cell_type": "code",
   "execution_count": 35,
   "metadata": {},
   "outputs": [
    {
     "name": "stdout",
     "output_type": "stream",
     "text": [
      "WARNING:tensorflow:From C:\\Users\\prince\\Anaconda3\\lib\\site-packages\\tensorflow\\python\\ops\\resource_variable_ops.py:1817: calling BaseResourceVariable.__init__ (from tensorflow.python.ops.resource_variable_ops) with constraint is deprecated and will be removed in a future version.\n",
      "Instructions for updating:\n",
      "If using Keras pass *_constraint arguments to layers.\n",
      "INFO:tensorflow:Assets written to: augmentation\\assets\n"
     ]
    }
   ],
   "source": [
    "model.save(\"augmentation\")"
   ]
  },
  {
   "cell_type": "code",
   "execution_count": 36,
   "metadata": {},
   "outputs": [],
   "source": [
    "test_img=\"C:/Users/prince/Desktop/test/\""
   ]
  },
  {
   "cell_type": "code",
   "execution_count": 37,
   "metadata": {},
   "outputs": [],
   "source": [
    "from keras.preprocessing.image import array_to_img , img_to_array , load_img"
   ]
  },
  {
   "cell_type": "code",
   "execution_count": 38,
   "metadata": {},
   "outputs": [],
   "source": [
    "image_dir='C:/Users/prince/Desktop/test/'"
   ]
  },
  {
   "cell_type": "markdown",
   "metadata": {},
   "source": [
    "# predicting images "
   ]
  },
  {
   "cell_type": "code",
   "execution_count": 39,
   "metadata": {},
   "outputs": [],
   "source": [
    "from keras.models import load_model\n",
    "img_row, img_height, img_width=32,32,3\n",
    "scale=8\n",
    "color=True\n",
    "classifier=load_model(\"augmentation\")\n",
    "def draw_test(name,input_im,result,scale,img_row,img_height):\n",
    "    black=[0,0,0]\n",
    "    result=int(result)\n",
    "    if result==2:\n",
    "        pred=\"saree\"\n",
    "    if result==0:\n",
    "        pred=\"shirt\"\n",
    "    if result==1:\n",
    "        pred=\"t_shirt\"\n",
    "    \n",
    "    expanded_img = cv2.copyMakeBorder(input_im,0,0,0,imageL.shape[0],cv2.BORDER_CONSTANT,value=black)\n",
    "    if color==False:\n",
    "        expanded_img = cv2.cvtColor(expanded_img,cv2.COLOR_GRAY2BGR)\n",
    "    cv2.putText(expanded_img,str(pred),(300,80),cv2.FONT_HERSHEY_COMPLEX_SMALL,3,(0,255,0),2)\n",
    "    cv2.imshow(name,expanded_img)"
   ]
  },
  {
   "cell_type": "code",
   "execution_count": 43,
   "metadata": {},
   "outputs": [],
   "source": [
    "for i in range(1,10):\n",
    "    input_img = load_img('C:/Users/prince/Desktop/test/'+ str(i) +'.jpg',target_size=(150,150,3))\n",
    "    input_img=img_to_array(input_img)\n",
    "    imageL=cv2.resize(input_img,None,fx=scale,fy=scale,interpolation=cv2.INTER_CUBIC)\n",
    "    input_img=input_img.reshape(1,150,150,img_width)\n",
    "    result=(model.predict_classes(input_img))\n",
    "    draw_test(\"prediction\",imageL,result,scale,img_row,img_height)\n",
    "    cv2.waitKey(1000)\n",
    "    cv2.destroyAllWindows()   "
   ]
  },
  {
   "cell_type": "code",
   "execution_count": 42,
   "metadata": {},
   "outputs": [],
   "source": [
    "## model is working well , the predictions are veryy accurate :\n",
    "## the accuracy score is greater than 97 and also there is no underfitting and overfitting in this model:\n",
    "## model is predicting well for the rough data"
   ]
  }
 ],
 "metadata": {
  "kernelspec": {
   "display_name": "Python 3",
   "language": "python",
   "name": "python3"
  },
  "language_info": {
   "codemirror_mode": {
    "name": "ipython",
    "version": 3
   },
   "file_extension": ".py",
   "mimetype": "text/x-python",
   "name": "python",
   "nbconvert_exporter": "python",
   "pygments_lexer": "ipython3",
   "version": "3.7.4"
  }
 },
 "nbformat": 4,
 "nbformat_minor": 2
}
